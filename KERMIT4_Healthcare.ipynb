{
 "cells": [
  {
   "cell_type": "markdown",
   "metadata": {},
   "source": [
    "# Importiamo le librerie"
   ]
  },
  {
   "cell_type": "code",
   "execution_count": null,
   "metadata": {},
   "outputs": [],
   "source": [
    "import transformers\n",
    "from keras.preprocessing.sequence import pad_sequences\n",
    "from sklearn.model_selection import train_test_split\n",
    "from transformers import AutoTokenizer, AutoModel, BertTokenizer, BertModel, BertConfig"
   ]
  },
  {
   "cell_type": "code",
   "execution_count": null,
   "metadata": {},
   "outputs": [],
   "source": [
    "from torch import optim\n",
    "from torch import nn\n",
    "import torch.nn.functional as F\n",
    "import torch\n",
    "from torch.utils.data import TensorDataset, DataLoader, RandomSampler, SequentialSampler"
   ]
  },
  {
   "cell_type": "code",
   "execution_count": null,
   "metadata": {},
   "outputs": [],
   "source": [
    "import pandas as pd\n",
    "import re\n",
    "import matplotlib.pyplot as plt\n",
    "from tqdm import tqdm, trange\n",
    "import numpy as np\n",
    "import pickle"
   ]
  },
  {
   "cell_type": "code",
   "execution_count": null,
   "metadata": {},
   "outputs": [],
   "source": [
    "import seaborn as sn\n",
    "from sklearn.metrics import accuracy_score, f1_score\n",
    "import math\n",
    "from scipy.stats import wilcoxon"
   ]
  },
  {
   "cell_type": "markdown",
   "metadata": {},
   "source": [
    "**Funzione che spacchetta gli alberi**"
   ]
  },
  {
   "cell_type": "code",
   "execution_count": null,
   "metadata": {},
   "outputs": [],
   "source": [
    "def unplickle_trees(path_tree_file):\n",
    "    print('--->read DTKs')\n",
    "    dt_trees = []\n",
    "    with open(path_tree_file, 'rb') as fr:\n",
    "        try:\n",
    "            while True:\n",
    "                dt_trees.append(pickle.load(fr))\n",
    "        except EOFError:\n",
    "            pass\n",
    "    return [torch.FloatTensor(i) for i in dt_trees]"
   ]
  },
  {
   "cell_type": "markdown",
   "metadata": {},
   "source": [
    "# Importiamo il dataset e gli alberi"
   ]
  },
  {
   "cell_type": "code",
   "execution_count": null,
   "metadata": {},
   "outputs": [],
   "source": [
    "df = pd.read_csv('HR_dataset.csv')\n",
    "trees = unplickle_trees('file_trees.pkl')\n",
    "\n",
    "df.head()"
   ]
  },
  {
   "cell_type": "code",
   "execution_count": null,
   "metadata": {},
   "outputs": [],
   "source": [
    "sentences = df.testo.values\n",
    "labels = df.target.values\n",
    "\n",
    "unique, counts = np.unique(labels, return_counts = True)\n",
    "\n",
    "print(unique, counts)"
   ]
  },
  {
   "cell_type": "markdown",
   "metadata": {},
   "source": [
    "**Funzioni utili per il calcolo statistico**"
   ]
  },
  {
   "cell_type": "code",
   "execution_count": null,
   "metadata": {},
   "outputs": [],
   "source": [
    "def calculate_mean(number_list):\n",
    "    sum = 0\n",
    "    for number in number_list:\n",
    "        sum += number\n",
    "\n",
    "    return sum/len(number_list)\n",
    "\n",
    "def calculate_standard_deviation(number_list):\n",
    "    mean = calculate_mean(number_list)\n",
    "    summatory = 0\n",
    "    for number in number_list:\n",
    "        summatory += pow((number - mean),2)\n",
    "\n",
    "    summatory = summatory/len(number_list)\n",
    "\n",
    "    return math.sqrt(summatory)"
   ]
  },
  {
   "cell_type": "code",
   "execution_count": null,
   "metadata": {},
   "outputs": [],
   "source": [
    "def flat_accuracy(preds, labels):\n",
    "    pred_flat = np.argmax(preds, axis=1).flatten()\n",
    "    labels_flat = labels.flatten()\n",
    "    return np.sum(pred_flat == labels_flat) / len(labels_flat)"
   ]
  },
  {
   "cell_type": "markdown",
   "metadata": {},
   "source": [
    "## **Italians Bert**\n",
    "* **Italian Bert**\n",
    "    * Tokenizzatore -->  BertTokenizer.from_pretrained(\"dbmdz/bert-base-italian-uncased\", do_lower_case=True)\n",
    "    * Modello --> BertModel.from_pretrained('dbmdz/bert-base-italian-uncased')\n",
    "\n",
    "\n",
    "\n",
    "* **Umberto** \n",
    "    * Tokenizzatore --> AutoTokenizer.from_pretrained(\"Musixmatch/umberto-commoncrawl-cased-v1\")\n",
    "    * Modello --> AutoModel.from_pretrained(\"Musixmatch/umberto-commoncrawl-cased-v1\")\n",
    "\n",
    "\n",
    "\n",
    "* **Alberto** \n",
    "    * Tokenizzatore --> AutoTokenizer.from_pretrained(\"m-polignano-uniba/bert_uncased_L-12_H-768_A-12_italian_alb3rt0\")\n",
    "    * Modello --> AutoModel.from_pretrained(\"m-polignano-uniba/bert_uncased_L-12_H-768_A-12_italian_alb3rt0\")\n",
    "    \n",
    "    \n",
    "\n",
    "* **Multilingua-Bert** \n",
    "    * Tokenizzatore --> BertTokenizer.from_pretrained('bert-base-multilingual-uncased')\n",
    "    * Modello --> BertModel.from_pretrained(\"bert-base-multilingual-uncased\")"
   ]
  },
  {
   "cell_type": "code",
   "execution_count": null,
   "metadata": {},
   "outputs": [],
   "source": [
    "def define_input(seed, random_state, sentences, model_type, epochs):\n",
    "    \n",
    "    device = torch.device(\"cuda\" if torch.cuda.is_available() else \"cpu\")\n",
    "    if torch.cuda.is_available(): torch.cuda.manual_seed_all(seed)\n",
    "        \n",
    "    global tokenizer\n",
    "    global model_architecture\n",
    "        \n",
    "    sentences = [\"[CLS] \" + sentence + \" [SEP]\" for sentence in sentences]\n",
    "    \n",
    "    if model_type == 'Italian_Bert':\n",
    "        tokenizer = BertTokenizer.from_pretrained(\"dbmdz/bert-base-italian-uncased\", do_lower_case=True)\n",
    "        model_architecture = BertModel.from_pretrained('dbmdz/bert-base-italian-uncased').to(\"cuda\" if torch.cuda.is_available() else \"cpu\")\n",
    "\n",
    "    if model_type == 'Umberto':\n",
    "        tokenizer = AutoTokenizer.from_pretrained(\"Musixmatch/umberto-commoncrawl-cased-v1\")\n",
    "        model_architecture = AutoModel.from_pretrained(\"Musixmatch/umberto-commoncrawl-cased-v1\").to(\"cuda\" if torch.cuda.is_available() else \"cpu\")\n",
    "                \n",
    "    if model_type == 'Alberto':\n",
    "        tokenizer = AutoTokenizer.from_pretrained(\"m-polignano-uniba/bert_uncased_L-12_H-768_A-12_italian_alb3rt0\")\n",
    "        model_architecture = AutoModel.from_pretrained(\"m-polignano-uniba/bert_uncased_L-12_H-768_A-12_italian_alb3rt0\").to(\"cuda\" if torch.cuda.is_available() else \"cpu\")\n",
    "\n",
    "    if model_type == 'Multilingua-Bert':\n",
    "        tokenizer = BertTokenizer.from_pretrained('bert-base-multilingual-uncased')\n",
    "        model_architecture = BertModel.from_pretrained(\"bert-base-multilingual-uncased\").to(\"cuda\" if torch.cuda.is_available() else \"cpu\")\n",
    "\n",
    "    tokenized_texts = [tokenizer.tokenize(sent) for sent in sentences]\n",
    "    \n",
    "    MAX_LEN = 128\n",
    "    input_ids = pad_sequences([tokenizer.convert_tokens_to_ids(txt) for txt in tokenized_texts],\n",
    "                          maxlen=MAX_LEN, dtype=\"long\", truncating=\"post\", padding=\"post\")\n",
    "    \n",
    "    attention_masks = []\n",
    "\n",
    "    for seq in input_ids:\n",
    "        seq_mask = [float(i>0) for i in seq]\n",
    "        attention_masks.append(seq_mask)\n",
    "        \n",
    "    X_inputs, test_inputs, X_labels, test_labels = train_test_split(input_ids, labels, random_state=random_state, test_size=0.2)\n",
    "    X_masks, test_masks, _, _ = train_test_split(attention_masks, input_ids, random_state=random_state, test_size=0.2)\n",
    "    X_trees, test_trees, _, _ = train_test_split(trees, input_ids, random_state=random_state, test_size=0.2)\n",
    "\n",
    "    train_inputs, validation_inputs, train_labels, validation_labels = train_test_split(X_inputs, X_labels, random_state=random_state, test_size=0.3)\n",
    "    train_masks, validation_masks, _, _ = train_test_split(X_masks, X_inputs, random_state=random_state, test_size=0.3)\n",
    "    train_trees, validation_trees, _, _ = train_test_split(X_trees, X_inputs, random_state=random_state, test_size=0.3)\n",
    "\n",
    "    train_inputs = torch.tensor(train_inputs)\n",
    "    train_labels = torch.tensor(train_labels)\n",
    "    train_masks = torch.tensor(train_masks)\n",
    "    train_trees = torch.stack(train_trees)\n",
    "\n",
    "    validation_inputs = torch.tensor(validation_inputs)\n",
    "    validation_labels = torch.tensor(validation_labels)\n",
    "    validation_masks = torch.tensor(validation_masks)\n",
    "    validation_trees = torch.stack(validation_trees)\n",
    "\n",
    "    test_inputs = torch.tensor(test_inputs)\n",
    "    test_labels = torch.tensor(test_labels)\n",
    "    test_masks = torch.tensor(test_masks)\n",
    "    test_trees = torch.stack(test_trees)\n",
    "\n",
    "    batch_size = 32\n",
    "\n",
    "    train_data = TensorDataset(train_inputs, train_masks, train_trees, train_labels)\n",
    "    train_sampler = RandomSampler(train_data)\n",
    "    train_dataloader = DataLoader(train_data, sampler=train_sampler, batch_size=batch_size)\n",
    "\n",
    "    validation_data = TensorDataset(validation_inputs, validation_masks, validation_trees, validation_labels)\n",
    "    validation_sampler = SequentialSampler(validation_data)\n",
    "    validation_dataloader = DataLoader(validation_data, sampler=validation_sampler, batch_size=batch_size)\n",
    "\n",
    "    test_data = TensorDataset(test_inputs, test_masks, test_trees, test_labels)\n",
    "    test_sampler = SequentialSampler(test_data)\n",
    "    test_dataloader = DataLoader(test_data, sampler=test_sampler, batch_size=batch_size)\n",
    "    \n",
    "    return train_dataloader, validation_dataloader, test_dataloader, model_architecture, device, test_labels\n",
    "    "
   ]
  },
  {
   "cell_type": "markdown",
   "metadata": {},
   "source": [
    "# Definiamo i modelli che utilizzeremo"
   ]
  },
  {
   "cell_type": "markdown",
   "metadata": {},
   "source": [
    "### Kermit Potter"
   ]
  },
  {
   "cell_type": "code",
   "execution_count": null,
   "metadata": {},
   "outputs": [],
   "source": [
    "class Kermit_Potter(nn.Module):\n",
    "    def __init__(self, input_dim_bert, input_dim_dt, output_dim, model_architecture):\n",
    "        super().__init__()\n",
    "        self.bert = model_architecture\n",
    "        self.dropout = nn.Dropout(0.1)\n",
    "        \n",
    "        self.fc1 = torch.nn.Linear(input_dim_dt, 2000)\n",
    "        self.fc2 = torch.nn.Linear(2000, 4000)\n",
    "        self.fc3 = torch.nn.Linear(4000, 2000)\n",
    "        self.fc4 = torch.nn.Linear(2000, 4000)\n",
    "\n",
    "        self.synth_sem_linear = nn.Linear(input_dim_bert + 4000, output_dim)\n",
    "\n",
    "\n",
    "    def forward(self, x_sem, attention_mask, x_synth):\n",
    "        with torch.no_grad():\n",
    "            x_sem = self.bert(x_sem)[0][:, 0, :]\n",
    "        \n",
    "        x_sem = self.dropout(x_sem)\n",
    "        \n",
    "        x_synth = F.dropout(F.relu(self.fc1(x_synth)), p=0.1)\n",
    "        x_synth = F.dropout(F.relu(self.fc2(x_synth)), p=0.1)\n",
    "        x_synth = F.dropout(F.relu(self.fc3(x_synth)), p=0.1)\n",
    "        x_synth = F.dropout(F.relu(self.fc4(x_synth)), p=0.1)\n",
    "        \n",
    "        x_tot = torch.cat((x_sem, x_synth), 1)\n",
    "        x_tot = self.synth_sem_linear(x_tot)\n",
    "        \n",
    "        return x_tot\n",
    "    \n",
    "    def get_activation(self, x_sem, x_synth):\n",
    "        with torch.no_grad():\n",
    "            x_sem = self.bert(x_sem)[0][:, 0, :]\n",
    "        \n",
    "        pooled_output = self.dropout(pooled_output)         \n",
    "        x_tot = torch.cat((pooled_output, x_synth), 1)\n",
    "        x_tot = self.synth_sem_linear(x_tot)\n",
    "        \n",
    "        return out"
   ]
  },
  {
   "cell_type": "markdown",
   "metadata": {},
   "source": [
    "### Classic Kermit"
   ]
  },
  {
   "cell_type": "code",
   "execution_count": null,
   "metadata": {},
   "outputs": [],
   "source": [
    "class Kermit_Classic(nn.Module):\n",
    "    def __init__(self, input_dim_bert, input_dim_dt, output_dim, model_architecture):\n",
    "        super().__init__()\n",
    "        self.bert = model_architecture\n",
    "        self.dropout = nn.Dropout(0.1)\n",
    "\n",
    "        self.synth_sem_linear = nn.Linear(input_dim_bert + 4000, output_dim)\n",
    "\n",
    "\n",
    "    def forward(self, x_sem, attention_mask, x_synth):\n",
    "        with torch.no_grad():\n",
    "            x_sem = self.bert(x_sem)[0][:, 0, :]\n",
    "        \n",
    "        x_sem = self.dropout(x_sem)\n",
    "        \n",
    "        x_tot = torch.cat((x_sem, x_synth), 1)\n",
    "        x_tot = self.synth_sem_linear(x_tot)\n",
    "        \n",
    "        return x_tot\n",
    "    \n",
    "    def get_activation(self, x_sem, x_synth):\n",
    "        with torch.no_grad():\n",
    "            x_sem = self.bert(x_sem)[0][:, 0, :]\n",
    "        \n",
    "        pooled_output = self.dropout(pooled_output)         \n",
    "        x_tot = torch.cat((pooled_output, x_synth), 1)\n",
    "        x_tot = self.synth_sem_linear(x_tot)\n",
    "        \n",
    "        return out"
   ]
  },
  {
   "cell_type": "markdown",
   "metadata": {},
   "source": [
    "### Solo Bert"
   ]
  },
  {
   "cell_type": "code",
   "execution_count": null,
   "metadata": {},
   "outputs": [],
   "source": [
    "class BertForSequenceClassification(nn.Module):\n",
    "  \n",
    "    def __init__(self, input_dim_bert, output_dim, model_architecture):\n",
    "        super().__init__()\n",
    "        self.bert = model_architecture\n",
    "        \n",
    "        self.dropout = nn.Dropout(0.1)\n",
    "        self.sem_linear = nn.Linear(input_dim_bert, output_dim)\n",
    "        \n",
    "    def forward(self, x_sem, attention_mask):\n",
    "        with torch.no_grad():\n",
    "            pooled_output = self.bert(x_sem, attention_mask)[0][:, 0, :]  \n",
    "            pooled_output = self.dropout(pooled_output)\n",
    "        logits = self.sem_linear(pooled_output)\n",
    "\n",
    "        return logits\n",
    "        \n",
    "    def get_activation(self, x_sem, x_synth):\n",
    "        with torch.no_grad():\n",
    "            x_sem = self.bert(x_sem)[0][:, 0, :]\n",
    "            x_tot = torch.cat((x_sem, x_synth), 1)\n",
    "            x_tot = self.synth_sem_linear(x_tot)\n",
    "        out = F.log_softmax(x_tot, dim=1)\n",
    "        return out"
   ]
  },
  {
   "cell_type": "markdown",
   "metadata": {},
   "source": [
    "# Creiamo le funzioni di applicazione dei modelli"
   ]
  },
  {
   "cell_type": "markdown",
   "metadata": {},
   "source": [
    "### Esecuzione di Kermit Potter"
   ]
  },
  {
   "cell_type": "code",
   "execution_count": null,
   "metadata": {},
   "outputs": [],
   "source": [
    "def execute_Potter(epochs, model_architecture, train_dataloader, validation_dataloader, test_dataloader, device, test_labels):\n",
    "    \n",
    "    Potter_model = Kermit_Potter(768,4000,2, model_architecture)\n",
    "\n",
    "    weights = [1/counts[0], 1/counts[1]] #[ 1 / number of instances for each class]\n",
    "    class_weights = torch.FloatTensor(weights).cuda()\n",
    "\n",
    "    criterion = nn.CrossEntropyLoss(weight=class_weights)\n",
    "    parameters = filter(lambda p: p.requires_grad, Potter_model.parameters())\n",
    "    optimizer = optim.AdamW(Potter_model.parameters(), lr=2e-5)\n",
    "    Potter_model.cuda()\n",
    "\n",
    "\n",
    "    # Store our loss and accuracy for plotting\n",
    "    train_loss_set = []\n",
    "    # Number of training epochs \n",
    "    epoch = 0\n",
    "\n",
    "    # BERT training loop\n",
    "    for _ in trange(epochs, desc=\"Epoch\"):  \n",
    "        Potter_model.train()  \n",
    "          # Tracking variables\n",
    "        tr_loss = 0\n",
    "        nb_tr_examples, nb_tr_steps = 0, 0\n",
    "      # Train the data for one epoch\n",
    "        for step, batch in enumerate(train_dataloader):\n",
    "            #print(step, batch)\n",
    "            # Add batch to GPU\n",
    "            batch = tuple(t.cuda() for t in batch)\n",
    "            # Unpack the inputs from our dataloader\n",
    "            b_input_ids, b_input_mask,b_input_tree, b_labels = batch\n",
    "            # Clear out the gradients (by default they accumulate)\n",
    "            optimizer.zero_grad()\n",
    "            # Forward pass\n",
    "\n",
    "            #NB anche BertForSequenceClassification prende in input anche b_input_tree ma non li usa (solo per comodità)\n",
    "            target_hat = Potter_model(b_input_ids, b_input_mask,b_input_tree)\n",
    "\n",
    "            loss = criterion(target_hat, b_labels)\n",
    "            train_loss_set.append(loss.item())\n",
    "\n",
    "            # Backward pass\n",
    "            loss.backward()\n",
    "            # Update parameters and take a step using the computed gradient\n",
    "            optimizer.step()\n",
    "            # Update tracking variables\n",
    "            tr_loss += loss.item()\n",
    "            nb_tr_examples += b_input_ids.size(0)\n",
    "            nb_tr_steps += 1\n",
    "\n",
    "        ## VALIDATION\n",
    "\n",
    "      # Put model in evaluation mode\n",
    "        Potter_model.eval()\n",
    "        # Tracking variables \n",
    "        eval_loss, eval_accuracy = 0, 0\n",
    "        nb_eval_steps, nb_eval_examples = 0, 0\n",
    "        # Evaluate data for one epoch\n",
    "        for batch in validation_dataloader:\n",
    "            # Add batch to GPU\n",
    "            batch = tuple(t.cuda() for t in batch)\n",
    "            # Unpack the inputs from our dataloader\n",
    "            b_input_ids, b_input_mask, b_input_tree, b_labels = batch\n",
    "            # Telling the model not to compute or store gradients, saving memory and speeding up validation\n",
    "            with torch.no_grad():\n",
    "\n",
    "              # Forward pass, calculate logit predictions\n",
    "\n",
    "            #NB anche BertForSequenceClassification prende in input anche b_input_tree ma non li usa (solo per comodità)\n",
    "              logits = Potter_model(b_input_ids, b_input_mask, b_input_tree)\n",
    "\n",
    "            # Move logits and labels to CPU\n",
    "            logits = logits.detach().cpu().numpy()\n",
    "            label_ids = b_labels.to('cpu').numpy()\n",
    "            tmp_eval_accuracy = flat_accuracy(logits, label_ids)    \n",
    "            eval_accuracy += tmp_eval_accuracy\n",
    "            nb_eval_steps += 1\n",
    "\n",
    "        epoch +=1\n",
    "        \n",
    "    predictions = []\n",
    "    Potter_model.eval()\n",
    "\n",
    "    for batch in test_dataloader:\n",
    "        batch = tuple(t.to(device) for t in batch)\n",
    "        b_input_ids, b_input_mask, b_input_tree, b_labels = batch\n",
    "\n",
    "        with torch.no_grad():\n",
    "            logits = Potter_model(b_input_ids, b_input_mask, b_input_tree)\n",
    "        logits = logits.detach().cpu().numpy()\n",
    "\n",
    "        predictions.append(logits)\n",
    "\n",
    "        flat_predictions = [item for sublist in predictions for item in sublist]\n",
    "        flat_predictions = np.argmax(flat_predictions, axis=1).flatten()\n",
    "        \n",
    "    A = accuracy_score(test_labels.numpy(), flat_predictions)\n",
    "    B = f1_score(test_labels.numpy(), flat_predictions, average='macro')\n",
    "    C = f1_score(test_labels.numpy(), flat_predictions, average='weighted')\n",
    "    D = f1_score(test_labels.numpy(), flat_predictions, average=None)\n",
    "        \n",
    "    return A,B,C,D"
   ]
  },
  {
   "cell_type": "markdown",
   "metadata": {},
   "source": [
    "### Esecuzione di Kermit Classico"
   ]
  },
  {
   "cell_type": "code",
   "execution_count": null,
   "metadata": {},
   "outputs": [],
   "source": [
    "def execute_Kermit(epochs, model_architecture, train_dataloader, validation_dataloader, test_dataloader, device, test_labels):\n",
    "    \n",
    "    Kermit_model = Kermit_Classic(768,4000,2, model_architecture)\n",
    "\n",
    "    weights = [1/counts[0], 1/counts[1]] #[ 1 / number of instances for each class]\n",
    "    class_weights = torch.FloatTensor(weights).cuda()\n",
    "\n",
    "    criterion = nn.CrossEntropyLoss(weight=class_weights)\n",
    "    parameters = filter(lambda p: p.requires_grad, Kermit_model.parameters())\n",
    "    optimizer = optim.AdamW(Kermit_model.parameters(), lr=2e-5)\n",
    "    Kermit_model.cuda()\n",
    "\n",
    "\n",
    "    # Store our loss and accuracy for plotting\n",
    "    train_loss_set = []\n",
    "    # Number of training epochs \n",
    "    epoch = 0\n",
    "\n",
    "    # BERT training loop\n",
    "    for _ in trange(epochs, desc=\"Epoch\"):  \n",
    "        Kermit_model.train()  \n",
    "          # Tracking variables\n",
    "        tr_loss = 0\n",
    "        nb_tr_examples, nb_tr_steps = 0, 0\n",
    "      # Train the data for one epoch\n",
    "        for step, batch in enumerate(train_dataloader):\n",
    "            #print(step, batch)\n",
    "            # Add batch to GPU\n",
    "            batch = tuple(t.cuda() for t in batch)\n",
    "            # Unpack the inputs from our dataloader\n",
    "            b_input_ids, b_input_mask,b_input_tree, b_labels = batch\n",
    "            # Clear out the gradients (by default they accumulate)\n",
    "            optimizer.zero_grad()\n",
    "            # Forward pass\n",
    "\n",
    "            #NB anche BertForSequenceClassification prende in input anche b_input_tree ma non li usa (solo per comodità)\n",
    "            target_hat = Kermit_model(b_input_ids, b_input_mask,b_input_tree)\n",
    "\n",
    "            loss = criterion(target_hat, b_labels)\n",
    "            train_loss_set.append(loss.item())\n",
    "\n",
    "            # Backward pass\n",
    "            loss.backward()\n",
    "            # Update parameters and take a step using the computed gradient\n",
    "            optimizer.step()\n",
    "            # Update tracking variables\n",
    "            tr_loss += loss.item()\n",
    "            nb_tr_examples += b_input_ids.size(0)\n",
    "            nb_tr_steps += 1\n",
    "\n",
    "        ## VALIDATION\n",
    "\n",
    "      # Put model in evaluation mode\n",
    "        Kermit_model.eval()\n",
    "        # Tracking variables \n",
    "        eval_loss, eval_accuracy = 0, 0\n",
    "        nb_eval_steps, nb_eval_examples = 0, 0\n",
    "        # Evaluate data for one epoch\n",
    "        for batch in validation_dataloader:\n",
    "            # Add batch to GPU\n",
    "            batch = tuple(t.cuda() for t in batch)\n",
    "            # Unpack the inputs from our dataloader\n",
    "            b_input_ids, b_input_mask, b_input_tree, b_labels = batch\n",
    "            # Telling the model not to compute or store gradients, saving memory and speeding up validation\n",
    "            with torch.no_grad():\n",
    "\n",
    "              # Forward pass, calculate logit predictions\n",
    "\n",
    "            #NB anche BertForSequenceClassification prende in input anche b_input_tree ma non li usa (solo per comodità)\n",
    "              logits = Kermit_model(b_input_ids, b_input_mask, b_input_tree)\n",
    "\n",
    "            # Move logits and labels to CPU\n",
    "            logits = logits.detach().cpu().numpy()\n",
    "            label_ids = b_labels.to('cpu').numpy()\n",
    "            tmp_eval_accuracy = flat_accuracy(logits, label_ids)    \n",
    "            eval_accuracy += tmp_eval_accuracy\n",
    "            nb_eval_steps += 1\n",
    "\n",
    "        epoch +=1     \n",
    "        \n",
    "    predictions = []\n",
    "    Kermit_model.eval()\n",
    "\n",
    "    for batch in test_dataloader:\n",
    "        batch = tuple(t.to(device) for t in batch)\n",
    "        b_input_ids, b_input_mask, b_input_tree, b_labels = batch\n",
    "\n",
    "        with torch.no_grad():\n",
    "            logits = Kermit_model(b_input_ids, b_input_mask, b_input_tree)\n",
    "        logits = logits.detach().cpu().numpy()\n",
    "\n",
    "        predictions.append(logits)\n",
    "\n",
    "        flat_predictions = [item for sublist in predictions for item in sublist]\n",
    "        flat_predictions = np.argmax(flat_predictions, axis=1).flatten()\n",
    "        \n",
    "    A = accuracy_score(test_labels.numpy(), flat_predictions)\n",
    "    B = f1_score(test_labels.numpy(), flat_predictions, average='macro')\n",
    "    C = f1_score(test_labels.numpy(), flat_predictions, average='weighted')\n",
    "    D = f1_score(test_labels.numpy(), flat_predictions, average=None)\n",
    "        \n",
    "    return A,B,C,D"
   ]
  },
  {
   "cell_type": "markdown",
   "metadata": {},
   "source": [
    "### Esecuzione di solo Bert"
   ]
  },
  {
   "cell_type": "code",
   "execution_count": null,
   "metadata": {},
   "outputs": [],
   "source": [
    "def execute_Bert(epochs, model_architecture, train_dataloader, validation_dataloader, test_dataloader, device, test_labels):\n",
    "    Alone_model = BertForSequenceClassification(768,2, model_architecture)\n",
    "\n",
    "    criterion = nn.CrossEntropyLoss()\n",
    "    parameters = filter(lambda p: p.requires_grad, Alone_model.parameters())\n",
    "    optimizer = optim.AdamW(Alone_model.parameters(), lr=2e-5)\n",
    "\n",
    "    Alone_model.cuda()\n",
    "\n",
    "    # Store our loss and accuracy for plotting\n",
    "    train_loss_set = []\n",
    "    # Number of training epochs \n",
    "    epoch = 0\n",
    "\n",
    "    # BERT training loop\n",
    "    for _ in trange(epochs, desc=\"Epoch\"):  \n",
    "        Alone_model.train()  \n",
    "          # Tracking variables\n",
    "        tr_loss = 0\n",
    "        nb_tr_examples, nb_tr_steps = 0, 0\n",
    "      # Train the data for one epoch\n",
    "        for step, batch in enumerate(train_dataloader):\n",
    "            #print(step, batch)\n",
    "            # Add batch to GPU\n",
    "            batch = tuple(t.cuda() for t in batch)\n",
    "            # Unpack the inputs from our dataloader\n",
    "            b_input_ids, b_input_mask,b_input_tree, b_labels = batch\n",
    "            # Clear out the gradients (by default they accumulate)\n",
    "            optimizer.zero_grad()\n",
    "            # Forward pass\n",
    "\n",
    "            #NB anche BertForSequenceClassification prende in input anche b_input_tree ma non li usa (solo per comodità)\n",
    "            target_hat = Alone_model(b_input_ids, b_input_mask)\n",
    "\n",
    "            loss = criterion(target_hat, b_labels)\n",
    "            train_loss_set.append(loss.item())\n",
    "\n",
    "            # Backward pass\n",
    "            loss.backward()\n",
    "            # Update parameters and take a step using the computed gradient\n",
    "            optimizer.step()\n",
    "            # Update tracking variables\n",
    "            tr_loss += loss.item()\n",
    "            nb_tr_examples += b_input_ids.size(0)\n",
    "            nb_tr_steps += 1\n",
    "\n",
    "        ## VALIDATION\n",
    "\n",
    "      # Put model in evaluation mode\n",
    "        Alone_model.eval()\n",
    "        # Tracking variables \n",
    "        eval_loss, eval_accuracy = 0, 0\n",
    "        nb_eval_steps, nb_eval_examples = 0, 0\n",
    "        # Evaluate data for one epoch\n",
    "        for batch in validation_dataloader:\n",
    "            # Add batch to GPU\n",
    "            batch = tuple(t.cuda() for t in batch)\n",
    "            # Unpack the inputs from our dataloader\n",
    "            b_input_ids, b_input_mask, b_input_tree, b_labels = batch\n",
    "            # Telling the model not to compute or store gradients, saving memory and speeding up validation\n",
    "            with torch.no_grad():\n",
    "\n",
    "              # Forward pass, calculate logit predictions\n",
    "\n",
    "            #NB anche BertForSequenceClassification prende in input anche b_input_tree ma non li usa (solo per comodità)\n",
    "              logits = Alone_model(b_input_ids, b_input_mask)\n",
    "\n",
    "            # Move logits and labels to CPU\n",
    "            logits = logits.detach().cpu().numpy()\n",
    "            label_ids = b_labels.to('cpu').numpy()\n",
    "            tmp_eval_accuracy = flat_accuracy(logits, label_ids)    \n",
    "            eval_accuracy += tmp_eval_accuracy\n",
    "            nb_eval_steps += 1\n",
    "\n",
    "        epoch +=1\n",
    "\n",
    "    predictions = []\n",
    "    Alone_model.eval()\n",
    "\n",
    "    for batch in test_dataloader:\n",
    "        batch = tuple(t.to(device) for t in batch)\n",
    "        b_input_ids, b_input_mask, b_input_tree, b_labels = batch\n",
    "\n",
    "        with torch.no_grad():\n",
    "            logits = Alone_model(b_input_ids, b_input_mask)\n",
    "        logits = logits.detach().cpu().numpy()\n",
    "\n",
    "        predictions.append(logits)\n",
    "\n",
    "        flat_predictions = [item for sublist in predictions for item in sublist]\n",
    "        flat_predictions = np.argmax(flat_predictions, axis=1).flatten()\n",
    "        \n",
    "    A = accuracy_score(test_labels.numpy(), flat_predictions)\n",
    "    B = f1_score(test_labels.numpy(), flat_predictions, average='macro')\n",
    "    C = f1_score(test_labels.numpy(), flat_predictions, average='weighted')\n",
    "    D = f1_score(test_labels.numpy(), flat_predictions, average=None)\n",
    "        \n",
    "    return A,B,C,D"
   ]
  },
  {
   "cell_type": "markdown",
   "metadata": {},
   "source": [
    "# Eseguiamo le funzioni"
   ]
  },
  {
   "cell_type": "markdown",
   "metadata": {},
   "source": [
    "**Definiamo le varibili che univoche per tutti i modelli**"
   ]
  },
  {
   "cell_type": "code",
   "execution_count": null,
   "metadata": {},
   "outputs": [],
   "source": [
    "seed = [46, 23, 17, 54, 31, 54, 1, 28, 52, 27]\n",
    "random_state = [1024, 3333, 1995, 2780, 3833, 1394, 779, 4787, 845, 5480]\n",
    "model_architecture_list = ['Italian_Bert','Umberto','Alberto', 'Multilingua-Bert']\n",
    "epochs = 2\n",
    "\n",
    "model_architecture = model_architecture_list[2]"
   ]
  },
  {
   "cell_type": "markdown",
   "metadata": {},
   "source": [
    "**Eseguiamo Potter Kermit**"
   ]
  },
  {
   "cell_type": "code",
   "execution_count": null,
   "metadata": {},
   "outputs": [],
   "source": [
    "Potter_accuracy_list = []\n",
    "Potter_macro_list = []\n",
    "Potter_weighted_list = []\n",
    "Potter_other_0 = []\n",
    "Potter_other_1 = []\n",
    "\n",
    "\n",
    "for i in range(0, 10):\n",
    "    train_dataloder, validation_dataloader, test_dataloder, model_architecture, device, test_labels = define_input(seed[i], random_state[i], sentences, model_architecture, epochs)\n",
    "    \n",
    "    A,B,C,D = execute_Potter(epochs, model_architecture, train_dataloder, validation_dataloader, test_dataloder, device, test_labels)\n",
    "    \n",
    "    Potter_accuracy_list.append(A)\n",
    "    Potter_macro_list.append(B)\n",
    "    Potter_weighted_list.append(C)\n",
    "    Potter_other_0.append(D[0])\n",
    "    Potter_other_1.append(D[1])"
   ]
  },
  {
   "cell_type": "markdown",
   "metadata": {},
   "source": [
    "**Eseguiamo Kermit classico**"
   ]
  },
  {
   "cell_type": "code",
   "execution_count": null,
   "metadata": {},
   "outputs": [],
   "source": [
    "Kermit_accuracy_list = []\n",
    "Kermit_macro_list = []\n",
    "Kermit_weighted_list = []\n",
    "Kermit_other_0 = []\n",
    "Kermit_other_1 = []\n",
    "\n",
    "\n",
    "for i in range(0, 10):\n",
    "    train_dataloder, validation_dataloader, test_dataloder, model_architecture, device, test_labels = define_input(seed[i], random_state[i], sentences, model_architecture, epochs)\n",
    "    \n",
    "    A,B,C,D = execute_Kermit(epochs, model_architecture, train_dataloder, validation_dataloader, test_dataloder, device, test_labels)\n",
    "    \n",
    "    Kermit_accuracy_list.append(A)\n",
    "    Kermit_macro_list.append(B)\n",
    "    Kermit_weighted_list.append(C)\n",
    "    Kermit_other_0.append(D[0])\n",
    "    Kermit_other_1.append(D[1])"
   ]
  },
  {
   "cell_type": "markdown",
   "metadata": {},
   "source": [
    "**Eseguiamo solo Bert**"
   ]
  },
  {
   "cell_type": "code",
   "execution_count": null,
   "metadata": {},
   "outputs": [],
   "source": [
    "Bert_accuracy_list = []\n",
    "Bert_macro_list = []\n",
    "Bert_weighted_list = []\n",
    "Bert_other_0 = []\n",
    "Bert_other_1 = []\n",
    "\n",
    "\n",
    "for i in range(0, 10):\n",
    "    train_dataloder, validation_dataloader, test_dataloder, model_architecture, device, test_labels = define_input(seed[i], random_state[i], sentences, model_architecture, epochs)\n",
    "    \n",
    "    A,B,C,D = execute_Bert(epochs, model_architecture, train_dataloder, validation_dataloader, test_dataloder, device, test_labels)\n",
    "    \n",
    "    Bert_accuracy_list.append(A)\n",
    "    Bert_macro_list.append(B)\n",
    "    Bert_weighted_list.append(C)\n",
    "    Bert_other_0.append(D[0])\n",
    "    Bert_other_1.append(D[1])"
   ]
  },
  {
   "cell_type": "markdown",
   "metadata": {},
   "source": [
    "# Calcoliamo la media e la variazione standard dei 3 modelli"
   ]
  },
  {
   "cell_type": "markdown",
   "metadata": {},
   "source": [
    "**Kermit Potter**"
   ]
  },
  {
   "cell_type": "code",
   "execution_count": null,
   "metadata": {},
   "outputs": [],
   "source": [
    "print('*********** F1 - SCORE CLASS 0')\n",
    "print(round(calculate_mean(Potter_other_0), 2))\n",
    "print(round(calculate_standard_deviation(Potter_other_0), 2))\n",
    "\n",
    "print('*********** F1 - SCORE CLASS 1')\n",
    "print(round(calculate_mean(Potter_other_1), 2))\n",
    "print(round(calculate_standard_deviation(Potter_other_1), 2))\n",
    "\n",
    "print('*********** ACCURACY')\n",
    "print(round(calculate_mean(Potter_accuracy_list),2))\n",
    "print(round(calculate_standard_deviation(Potter_accuracy_list),2))\n",
    "\n",
    "print('*********** MACRO')\n",
    "print(round(calculate_mean(Potter_macro_list),2))\n",
    "print(round(calculate_standard_deviation(Potter_macro_list),2))\n",
    "\n",
    "print('*********** WEIGHTED')\n",
    "print(round(calculate_mean(Potter_weighted_list), 2))\n",
    "print(round(calculate_standard_deviation(Potter_weighted_list), 2))"
   ]
  },
  {
   "cell_type": "markdown",
   "metadata": {},
   "source": [
    "**Kermit classico**"
   ]
  },
  {
   "cell_type": "code",
   "execution_count": null,
   "metadata": {},
   "outputs": [],
   "source": [
    "print('*********** F1 - SCORE CLASS 0')\n",
    "print(round(calculate_mean(Kermit_other_0), 2))\n",
    "print(round(calculate_standard_deviation(Kermit_other_0), 2))\n",
    "\n",
    "print('*********** F1 - SCORE CLASS 1')\n",
    "print(round(calculate_mean(Kermit_other_1), 2))\n",
    "print(round(calculate_standard_deviation(Kermit_other_1), 2))\n",
    "\n",
    "print('*********** ACCURACY')\n",
    "print(round(calculate_mean(Kermit_accuracy_list),2))\n",
    "print(round(calculate_standard_deviation(Kermit_accuracy_list),2))\n",
    "\n",
    "print('*********** MACRO')\n",
    "print(round(calculate_mean(Kermit_macro_list),2))\n",
    "print(round(calculate_standard_deviation(Kermit_macro_list),2))\n",
    "\n",
    "print('*********** WEIGHTED')\n",
    "print(round(calculate_mean(Kermit_weighted_list), 2))\n",
    "print(round(calculate_standard_deviation(Kermit_weighted_list), 2))"
   ]
  },
  {
   "cell_type": "markdown",
   "metadata": {},
   "source": [
    "**Solo Bert**"
   ]
  },
  {
   "cell_type": "code",
   "execution_count": null,
   "metadata": {},
   "outputs": [],
   "source": [
    "print('*********** F1 - SCORE CLASS 0')\n",
    "print(round(calculate_mean(Bert_other_0), 2))\n",
    "print(round(calculate_standard_deviation(Bert_other_0), 2))\n",
    "\n",
    "print('*********** F1 - SCORE CLASS 1')\n",
    "print(round(calculate_mean(Bert_other_1), 2))\n",
    "print(round(calculate_standard_deviation(Bert_other_1), 2))\n",
    "\n",
    "print('*********** ACCURACY')\n",
    "print(round(calculate_mean(Bert_accuracy_list),2))\n",
    "print(round(calculate_standard_deviation(Bert_accuracy_list),2))\n",
    "\n",
    "print('*********** MACRO')\n",
    "print(round(calculate_mean(Bert_macro_list),2))\n",
    "print(round(calculate_standard_deviation(Bert_macro_list),2))\n",
    "\n",
    "print('*********** WEIGHTED')\n",
    "print(round(calculate_mean(Bert_weighted_list), 2))\n",
    "print(round(calculate_standard_deviation(Bert_weighted_list), 2))"
   ]
  },
  {
   "cell_type": "markdown",
   "metadata": {},
   "source": [
    "# Verifichiamo se i risultati ottenuti sono statisticamente significativi"
   ]
  },
  {
   "cell_type": "code",
   "execution_count": null,
   "metadata": {},
   "outputs": [],
   "source": [
    "def p_test(p):\n",
    "    alpha = 0.05\n",
    "    if p > alpha:\n",
    "        print('Same distribution (fail to reject H0)')\n",
    "    else:\n",
    "        print('Different distribution (reject H0)')"
   ]
  },
  {
   "cell_type": "markdown",
   "metadata": {},
   "source": [
    "**Potter vs Kermit**"
   ]
  },
  {
   "cell_type": "code",
   "execution_count": null,
   "metadata": {},
   "outputs": [],
   "source": [
    "a_w, a_p = wilcoxon(Potter_accuracy_list, Kermit_accuracy_list)\n",
    "m_w, m_p = wilcoxon(Potter_macro_list, Kermit_macro_list)\n",
    "w_w, w_p = wilcoxon(Potter_weighted_list, Kermit_weighted_list)"
   ]
  },
  {
   "cell_type": "code",
   "execution_count": null,
   "metadata": {},
   "outputs": [],
   "source": [
    "p_test(a_p)\n",
    "p_test(m_p)\n",
    "p_test(w_p)"
   ]
  },
  {
   "cell_type": "markdown",
   "metadata": {},
   "source": [
    "**Potter vs Bert**"
   ]
  },
  {
   "cell_type": "code",
   "execution_count": null,
   "metadata": {},
   "outputs": [],
   "source": [
    "a_w, a_p = wilcoxon(Potter_accuracy_list, Bert_accuracy_list)\n",
    "m_w, m_p = wilcoxon(Potter_macro_list, Bert_macro_list)\n",
    "w_w, w_p = wilcoxon(Potter_weighted_list, Bert_weighted_list)"
   ]
  },
  {
   "cell_type": "code",
   "execution_count": null,
   "metadata": {},
   "outputs": [],
   "source": [
    "p_test(a_p)\n",
    "p_test(m_p)\n",
    "p_test(w_p)"
   ]
  },
  {
   "cell_type": "markdown",
   "metadata": {},
   "source": [
    "**Kermit vs Bert**"
   ]
  },
  {
   "cell_type": "code",
   "execution_count": null,
   "metadata": {},
   "outputs": [],
   "source": [
    "a_w, a_p = wilcoxon(Kermit_accuracy_list, Bert_accuracy_list)\n",
    "m_w, m_p = wilcoxon(Kermit_macro_list, Bert_macro_list)\n",
    "w_w, w_p = wilcoxon(Kermit_weighted_list, Bert_weighted_list)"
   ]
  },
  {
   "cell_type": "code",
   "execution_count": null,
   "metadata": {},
   "outputs": [],
   "source": [
    "p_test(a_p)\n",
    "p_test(m_p)\n",
    "p_test(w_p)"
   ]
  },
  {
   "cell_type": "code",
   "execution_count": null,
   "metadata": {
    "scrolled": true
   },
   "outputs": [],
   "source": []
  }
 ],
 "metadata": {
  "kernelspec": {
   "display_name": "Python 3",
   "language": "python",
   "name": "python3"
  },
  "language_info": {
   "codemirror_mode": {
    "name": "ipython",
    "version": 3
   },
   "file_extension": ".py",
   "mimetype": "text/x-python",
   "name": "python",
   "nbconvert_exporter": "python",
   "pygments_lexer": "ipython3",
   "version": "3.6.10"
  }
 },
 "nbformat": 4,
 "nbformat_minor": 2
}
